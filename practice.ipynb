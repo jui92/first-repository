{
 "cells": [
  {
   "cell_type": "code",
   "execution_count": 1,
   "id": "a6b71339",
   "metadata": {},
   "outputs": [
    {
     "name": "stdout",
     "output_type": "stream",
     "text": [
      "해당 파일은 Git실습을 위한 파일입니다.\n"
     ]
    }
   ],
   "source": [
    "print(\"해당 파일은 Git실습을 위한 파일입니다.\")"
   ]
  },
  {
   "cell_type": "code",
   "execution_count": null,
   "id": "8b8d4918",
   "metadata": {},
   "outputs": [],
   "source": []
  }
 ],
 "metadata": {
  "kernelspec": {
   "display_name": "Python 3 (ipykernel)",
   "language": "python",
   "name": "python3"
  },
  "language_info": {
   "codemirror_mode": {
    "name": "ipython",
    "version": 3
   },
   "file_extension": ".py",
   "mimetype": "text/x-python",
   "name": "python",
   "nbconvert_exporter": "python",
   "pygments_lexer": "ipython3",
   "version": "3.9.7"
  }
 },
 "nbformat": 4,
 "nbformat_minor": 5
}
